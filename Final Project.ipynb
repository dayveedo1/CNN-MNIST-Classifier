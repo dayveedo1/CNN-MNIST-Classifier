{
 "cells": [
  {
   "cell_type": "code",
   "execution_count": 1,
   "id": "b87bf248",
   "metadata": {},
   "outputs": [],
   "source": [
    "import numpy as np\n",
    "import pandas as pd\n",
    "import tensorflow as tf\n",
    "import matplotlib.pyplot as plt\n",
    "\n",
    "from scipy.ndimage import rotate\n",
    "\n",
    "import random"
   ]
  },
  {
   "cell_type": "code",
   "execution_count": 2,
   "id": "0ccc97cc",
   "metadata": {},
   "outputs": [],
   "source": [
    "from tensorflow.keras.models import Sequential\n",
    "from tensorflow.keras.layers import Flatten, Conv2D, Dense, MaxPooling2D\n",
    "from tensorflow.keras.optimizers import SGD\n",
    "from tensorflow.keras.utils import to_categorical\n"
   ]
  },
  {
   "cell_type": "code",
   "execution_count": 3,
   "id": "3d07389f",
   "metadata": {},
   "outputs": [],
   "source": [
    "from tensorflow.keras.datasets import mnist"
   ]
  },
  {
   "cell_type": "code",
   "execution_count": 4,
   "id": "1c2c4808",
   "metadata": {},
   "outputs": [
    {
     "name": "stdout",
     "output_type": "stream",
     "text": [
      "(60000, 28, 28) (10000, 28, 28)\n",
      "(60000,) (10000,)\n"
     ]
    },
    {
     "data": {
      "image/png": "[encoded data removed]",
      "text/plain": [
       "<Figure size 432x288 with 1 Axes>"
      ]
     },
     "metadata": {
      "needs_background": "light"
     },
     "output_type": "display_data"
    }
   ],
   "source": [
    "(x_train, y_train), (x_test, y_test) = mnist.load_data()\n",
    "\n",
    "print(x_train.shape, x_test.shape)\n",
    "print(y_train.shape, y_test.shape)\n",
    "\n",
    "# rotate the training and test sets by 90 degrees\n",
    "\n",
    "x_train_rotated = [rotate(image, angle=180, reshape=False) for image in x_train]\n",
    "x_test_rotated = [rotate(image, angle=180, reshape=False) for image in x_test]\n",
    "\n",
    "x_train_rotated = np.array(x_train_rotated)\n",
    "x_test_rotated = np.array(x_test_rotated)\n",
    "\n",
    "x_train_set = x_train_rotated.reshape((x_train_rotated.shape[0], 28, 28, 1))\n",
    "x_train_set = x_train_rotated.astype('float32') / 255\n",
    "\n",
    "y_train = to_categorical(y_train)\n",
    "\n",
    "\n",
    "###\n",
    "img = random.choice(x_test_rotated)\n",
    "plt.imshow(img, cmap= plt.get_cmap('gray'))\n",
    "plt.show()\n",
    "img = (img.reshape((1, 28, 28, 1))).astype('float32') / 255"
   ]
  },
  {
   "cell_type": "code",
   "execution_count": 5,
   "id": "26872d4e",
   "metadata": {},
   "outputs": [],
   "source": [
    "# building the model\n",
    "\n",
    "model = Sequential([\n",
    "    Conv2D(32, (3,3), activation= 'relu', input_shape=(28, 28, 1)),\n",
    "    MaxPooling2D((2,2)),\n",
    "    Flatten(),\n",
    "    Dense(100, activation= 'relu'),\n",
    "    Dense(10, activation= 'softmax')\n",
    "])"
   ]
  },
  {
   "cell_type": "code",
   "execution_count": 6,
   "id": "98043f69",
   "metadata": {},
   "outputs": [],
   "source": [
    "optimizer = SGD(learning_rate= 0.01, momentum= 0.9)\n",
    "\n",
    "model.compile(\n",
    "    optimizer= optimizer,\n",
    "    loss= 'categorical_crossentropy',\n",
    "    metrics= ['accuracy']\n",
    ")"
   ]
  },
  {
   "cell_type": "code",
   "execution_count": 7,
   "id": "309fcbd2",
   "metadata": {},
   "outputs": [
    {
     "name": "stdout",
     "output_type": "stream",
     "text": [
      "Epoch 1/3\n",
      "1875/1875 [==============================] - 10s 5ms/step - loss: 0.2289 - accuracy: 0.9301\n",
      "Epoch 2/3\n",
      "1875/1875 [==============================] - 10s 5ms/step - loss: 0.0737 - accuracy: 0.9776\n",
      "Epoch 3/3\n",
      "1875/1875 [==============================] - 10s 5ms/step - loss: 0.0464 - accuracy: 0.9864\n"
     ]
    },
    {
     "data": {
      "text/plain": [
       "'\\nimage = random.choice(x_test)\\n\\nimage = ndimage.rotate(image, 180)\\nplt.imshow(image, cmap= plt.get_cmap(\\'gray\\'))\\nplt.show()\\n\\n\\n\\nimage = (image.reshape((1, 28, 28, 1))).astype(\\'float32\\') / 255\\n\\n#digit = np.argmax(model.predict(image)[0], axis= -1)\\n#print(\"Prediction:\", digit)\\n'"
      ]
     },
     "execution_count": 7,
     "metadata": {},
     "output_type": "execute_result"
    }
   ],
   "source": [
    "history = model.fit(x_train_set, y_train, epochs= 3, batch_size= 32)\n",
    "\n",
    "\"\"\"\n",
    "image = random.choice(x_test)\n",
    "\n",
    "image = ndimage.rotate(image, 180)\n",
    "plt.imshow(image, cmap= plt.get_cmap('gray'))\n",
    "plt.show()\n",
    "\n",
    "\n",
    "\n",
    "image = (image.reshape((1, 28, 28, 1))).astype('float32') / 255\n",
    "\n",
    "#digit = np.argmax(model.predict(image)[0], axis= -1)\n",
    "#print(\"Prediction:\", digit)\n",
    "\"\"\""
   ]
  },
  {
   "cell_type": "code",
   "execution_count": 8,
   "id": "9a8ee21e",
   "metadata": {},
   "outputs": [
    {
     "data": {
      "text/plain": [
       "{'loss': [0.22888904809951782, 0.07371493428945541, 0.046398088335990906],\n",
       " 'accuracy': [0.9301333427429199, 0.9776333570480347, 0.9864333271980286]}"
      ]
     },
     "execution_count": 8,
     "metadata": {},
     "output_type": "execute_result"
    }
   ],
   "source": [
    "history.history\n"
   ]
  },
  {
   "cell_type": "code",
   "execution_count": 9,
   "id": "0a386f62",
   "metadata": {},
   "outputs": [
    {
     "name": "stdout",
     "output_type": "stream",
     "text": [
      "(1, 28, 28, 1)\n"
     ]
    }
   ],
   "source": [
    "print(img.shape)"
   ]
  },
  {
   "cell_type": "code",
   "execution_count": 10,
   "id": "fdd28b06",
   "metadata": {},
   "outputs": [
    {
     "name": "stdout",
     "output_type": "stream",
     "text": [
      "1/1 [==============================] - 0s 63ms/step\n",
      "Prediction: 8\n"
     ]
    }
   ],
   "source": [
    "digit = np.argmax(model.predict(img)[0], axis= -1)\n",
    "print(\"Prediction:\", digit)"
   ]
  },
  {
   "cell_type": "code",
   "execution_count": null,
   "id": "4474142c",
   "metadata": {},
   "outputs": [],
   "source": []
  }
 ],
 "metadata": {
  "kernelspec": {
   "display_name": "Python 3 (ipykernel)",
   "language": "python",
   "name": "python3"
  },
  "language_info": {
   "codemirror_mode": {
    "name": "ipython",
    "version": 3
   },
   "file_extension": ".py",
   "mimetype": "text/x-python",
   "name": "python",
   "nbconvert_exporter": "python",
   "pygments_lexer": "ipython3",
   "version": "3.9.12"
  }
 },
 "nbformat": 4,
 "nbformat_minor": 5
}
